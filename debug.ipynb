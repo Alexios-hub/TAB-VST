{
 "cells": [
  {
   "cell_type": "code",
   "execution_count": 2,
   "metadata": {},
   "outputs": [],
   "source": [
    "from lavis.datasets.builders import dataset_zoo\n",
    "dataset_names = dataset_zoo.get_names()"
   ]
  },
  {
   "cell_type": "code",
   "execution_count": 3,
   "metadata": {},
   "outputs": [
    {
     "name": "stdout",
     "output_type": "stream",
     "text": [
      "['aok_vqa', 'aok_vqa_instruct', 'audio_video_discrn', 'audiocaps_mm_caption', 'audiocaps_mm_caption_instruct', 'audiocaps_mm_qa', 'audioset_mm_caption', 'audioset_mm_caption_instruct', 'avsd_dialogue', 'avsd_mm_dialogue_instruct', 'blip_diffusion_finetune', 'capfilt14m', 'capfilt14m_instruct', 'charade_caption', 'charade_caption_instruct', 'clotho_qa', 'clothov2', 'clothov2_instruct', 'coco_caption', 'coco_caption_instruct', 'coco_retrieval', 'coco_vqa', 'coco_vqa_instruct', 'coin_caption', 'coin_caption_instruct', 'conceptual_caption_12m', 'conceptual_caption_12m_instruct', 'conceptual_caption_3m', 'conceptual_caption_3m_instruct', 'didemo_retrieval', 'esc50_cls', 'flickr30k', 'flickr30k_caption', 'flickr30k_caption_instruct', 'gqa', 'gqa_instruct', 'iconqa', 'iconqa_instruct', 'image_pc_discrn', 'imagenet', 'laion2B_multi', 'laion400M', 'laion400M_instruct', 'llava150k_dialogue_instruct', 'modelnet40_cls', 'msrvtt_caption', 'msrvtt_caption_instruct', 'msrvtt_qa', 'msrvtt_qa_instruct', 'msrvtt_retrieval', 'msvd_caption', 'msvd_caption_instruct', 'msvd_qa', 'msvd_qa_instruct', 'musicavqa_mm', 'musicavqa_mm_instruct', 'nlvr', 'nocaps', 'objaverse_mm_caption', 'objaverse_mm_caption_instruct', 'objaverse_mm_qa', 'ocr_vqa', 'ocr_vqa_instruct', 'ok_vqa', 'ok_vqa_instruct', 'sbu_caption', 'sbu_caption_instruct', 'scienceqa', 'scienceqa_instruct', 'shapenet_mm_caption', 'shapenet_mm_caption_instruct', 'snli_ve', 'snli_ve_instruct', 'textcaps_caption', 'textcaps_caption_instruct', 'valor_mm_caption', 'valor_mm_caption_instruct', 'vatex_caption', 'vatex_caption_instruct', 'vg_caption', 'vg_caption_instruct', 'vg_vqa', 'vg_vqa_instruct', 'violin_caption', 'violin_caption_instruct', 'violin_entailment', 'violin_entailment_instruct', 'visdial', 'visdial_instruct', 'vizwiz_vqa', 'vlep_caption', 'vlep_caption_instruct', 'vsr_caption', 'vsr_caption_instruct', 'vsr_classification', 'vsr_classification_instruct', 'wavcaps_mm_caption', 'wavcaps_mm_caption_instruct', 'webvid2m_caption', 'webvid2m_caption_instruct', 'youcook_caption', 'youcook_caption_instruct', 'yt8m_mm_dialogue']\n"
     ]
    }
   ],
   "source": [
    "print(dataset_names)"
   ]
  },
  {
   "cell_type": "code",
   "execution_count": null,
   "metadata": {},
   "outputs": [],
   "source": []
  }
 ],
 "metadata": {
  "kernelspec": {
   "display_name": "IC4VC",
   "language": "python",
   "name": "python3"
  },
  "language_info": {
   "codemirror_mode": {
    "name": "ipython",
    "version": 3
   },
   "file_extension": ".py",
   "mimetype": "text/x-python",
   "name": "python",
   "nbconvert_exporter": "python",
   "pygments_lexer": "ipython3",
   "version": "3.10.13"
  }
 },
 "nbformat": 4,
 "nbformat_minor": 2
}
